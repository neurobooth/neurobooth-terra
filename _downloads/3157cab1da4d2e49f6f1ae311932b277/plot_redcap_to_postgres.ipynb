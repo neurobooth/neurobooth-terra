{
  "cells": [
    {
      "cell_type": "code",
      "execution_count": null,
      "metadata": {
        "collapsed": false
      },
      "outputs": [],
      "source": [
        "%matplotlib inline"
      ]
    },
    {
      "cell_type": "markdown",
      "metadata": {},
      "source": [
        "\n# Ingest table from Redcap into Postgres\n\nThis example demonstrates how to create table from Redcap.\n"
      ]
    },
    {
      "cell_type": "code",
      "execution_count": null,
      "metadata": {
        "collapsed": false
      },
      "outputs": [],
      "source": [
        "# Authors: Mainak Jas <mjas@harvard.mgh.edu>\n\nimport os\nimport os.path as op\n\nimport json\nfrom redcap import Project, RedcapError\n\nimport psycopg2\nfrom neurobooth_terra import Table, create_table, drop_table\nfrom neurobooth_terra.ingest_redcap import fetch_survey, infer_schema"
      ]
    },
    {
      "cell_type": "markdown",
      "metadata": {},
      "source": [
        "Let us first define the surveys and their survey IDs that we want to fetch.\nThis information can be found on Redcap. To fetch Redcap data, you will\nalso need to define the NEUROBOOTH_REDCAP_TOKEN environment variable.\nYou will need to request for the Redcap API token from Redcap interface.\n\n"
      ]
    },
    {
      "cell_type": "code",
      "execution_count": null,
      "metadata": {
        "collapsed": false
      },
      "outputs": [],
      "source": [
        "survey_ids = {'consent': 84349, 'contact': 84427, 'demographics': 84429,\n              'clinical': 84431, 'falls': 85031, 'subject': 84426}\nsurvey_ids = {'subject': 84426, 'consent': 84349}\n\nURL = 'https://redcap.partners.org/redcap/api/'\nAPI_KEY = os.environ.get('NEUROBOOTH_REDCAP_TOKEN')\n\nif API_KEY is None:\n    raise ValueError('Please define the environment variable NEUROBOOTH_REDCAP_TOKEN first')\n\nproject = Project(URL, API_KEY, lazy=True)"
      ]
    },
    {
      "cell_type": "markdown",
      "metadata": {},
      "source": [
        "Next, we fetch the metadata table. This table is the master table\nthat contains columns and their informations. It can be used to infer\ninformation about the columns: example, what choices are available for a\nparticular question.\n\n"
      ]
    },
    {
      "cell_type": "code",
      "execution_count": null,
      "metadata": {
        "collapsed": false
      },
      "outputs": [],
      "source": [
        "print('Fetching metadata ...')\nmetadata = project.export_metadata(format='df')\nmetadata_fields = ['field_label', 'form_name', 'section_header',\n                   'field_type', 'select_choices_or_calculations',\n                   'required_field']\nmetadata = metadata[metadata_fields]\n# metadata.to_csv(op.join(data_dir, 'data_dictionary.csv'), index=False)\nprint('[Done]')"
      ]
    },
    {
      "cell_type": "markdown",
      "metadata": {},
      "source": [
        "Finally, we loop over the surveys and print out the schema.\n\n"
      ]
    },
    {
      "cell_type": "code",
      "execution_count": null,
      "metadata": {
        "collapsed": false
      },
      "outputs": [],
      "source": [
        "import pandas as pd\n\njson_schema = dict()\ndfs = dict()\nfor survey_name, survey_id in survey_ids.items():\n    df = fetch_survey(project, survey_name, survey_id)\n    json_schema[survey_name] = infer_schema(df, metadata)\n    # convert to None for psycopg2\n    df = df.where(pd.notnull(df), None)\n    dfs[survey_name] = df\nprint(json.dumps(json_schema[survey_name], indent=4, sort_keys=True))"
      ]
    },
    {
      "cell_type": "markdown",
      "metadata": {},
      "source": [
        "Now, we will add the consent table to the subject table so we can\nmatch subjects based on record_id\n\n"
      ]
    },
    {
      "cell_type": "code",
      "execution_count": null,
      "metadata": {
        "collapsed": false
      },
      "outputs": [],
      "source": [
        "df_joined = dfs['subject'].join(dfs['consent'], rsuffix='consent')"
      ]
    },
    {
      "cell_type": "markdown",
      "metadata": {},
      "source": [
        "Now, we will prepare the subject table in postgres\n\n"
      ]
    },
    {
      "cell_type": "code",
      "execution_count": null,
      "metadata": {
        "collapsed": false
      },
      "outputs": [],
      "source": [
        "import hashlib\n\nrows_subject = list()\nrows_consent = list()\n\nsubject_ids = list()\n\nfor df_row in df_joined.iterrows():\n    df_row = df_row[1]\n\n    # need at least name to add to table\n    if df_row['first_name_birth'] is None:\n        continue\n\n    subject_id = df_row['first_name_birth'] + df_row['last_name_birth']\n    subject_id = hashlib.md5(subject_id.encode('ascii')).hexdigest()\n\n    # XXX: hack, why are there duplicate subjects?\n    if subject_id in subject_ids:\n        continue\n    subject_ids.append(subject_id)\n\n    rows_subject.append((subject_id,\n                        df_row['first_name_birth'],\n                        df_row['middle_name_birth'],\n                        df_row['last_name_birth'],\n                        df_row['date_of_birth'],\n                        df_row['country_of_birth'],\n                        df_row['gender_at_birth'],\n                        df_row['birthplace']))\n    rows_consent.append((subject_id,\n                        'study1',  # study_id\n                        'Neuroboother',  # staff_id\n                        'REDCAP',  # application_id\n                        'MGH',  # site_id\n                        # None, # date (missing)\n                        # df_row['educate_clinicians_adults'],\n                        # df_row['educate_clinicians_initials_adult'],\n                        # bool(df_row['future_research_consent_adult'])\n    ))"
      ]
    },
    {
      "cell_type": "markdown",
      "metadata": {},
      "source": [
        "Now, we will first create a connection to the database\n\n"
      ]
    },
    {
      "cell_type": "code",
      "execution_count": null,
      "metadata": {
        "collapsed": false
      },
      "outputs": [],
      "source": [
        "connect_str = (\"dbname='neurobooth' user='neuroboother' host='localhost' \"\n               \"password='neuroboothrocks'\")\n\nconn = psycopg2.connect(connect_str)"
      ]
    },
    {
      "cell_type": "markdown",
      "metadata": {},
      "source": [
        "We will drop our tables if they already exist\nthis is just for convenience so we can re-run this script\nand create a new mock subject table and consent table to test our script\n\n"
      ]
    },
    {
      "cell_type": "code",
      "execution_count": null,
      "metadata": {
        "collapsed": false
      },
      "outputs": [],
      "source": [
        "drop_table('subject', conn)\ndrop_table('consent', conn)\n\ntable_id = 'subject'\ncols_subject = ['subject_id', 'first_name_birth', 'middle_name_birth',\n           'last_name_birth', 'date_of_birth', 'country_of_birth',\n           'gender_at_birth', 'birthplace']\ndatatypes = ['VARCHAR (255)', 'VARCHAR (255)', 'VARCHAR (255)', 'VARCHAR (255)',\n             'date', 'VARCHAR (255)', 'VARCHAR (255)', 'VARCHAR (255)']\ntable_subject = create_table(table_id, conn, cols_subject, datatypes)\n\ntable_id = 'consent'\ncols_consent = ['subject_id', 'study_id', 'staff_id', 'application_id',\n                'site_id']\ndatatypes = ['VARCHAR (255)', 'VARCHAR (255)', 'VARCHAR (255)', 'VARCHAR (255)',\n             'VARCHAR (255)']\ntable_consent = create_table(table_id, conn, cols_consent, datatypes)"
      ]
    },
    {
      "cell_type": "markdown",
      "metadata": {},
      "source": [
        "Then we insert the rows in this table\n\n"
      ]
    },
    {
      "cell_type": "code",
      "execution_count": null,
      "metadata": {
        "collapsed": false
      },
      "outputs": [],
      "source": [
        "table_subject.insert_rows(rows_subject, cols_subject)\ntable_consent.insert_rows(rows_consent, cols_consent)"
      ]
    }
  ],
  "metadata": {
    "kernelspec": {
      "display_name": "Python 3",
      "language": "python",
      "name": "python3"
    },
    "language_info": {
      "codemirror_mode": {
        "name": "ipython",
        "version": 3
      },
      "file_extension": ".py",
      "mimetype": "text/x-python",
      "name": "python",
      "nbconvert_exporter": "python",
      "pygments_lexer": "ipython3",
      "version": "3.8.10"
    }
  },
  "nbformat": 4,
  "nbformat_minor": 0
}