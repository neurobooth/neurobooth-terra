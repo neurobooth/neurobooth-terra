{
  "cells": [
    {
      "cell_type": "code",
      "execution_count": null,
      "metadata": {
        "collapsed": false
      },
      "outputs": [],
      "source": [
        "%matplotlib inline"
      ]
    },
    {
      "cell_type": "markdown",
      "metadata": {},
      "source": [
        "\n# Create Entity-Relation diagram from Postgres table\n\nThis example demonstrates how to create postgres table with neurobooth-terra.\n"
      ]
    },
    {
      "cell_type": "code",
      "execution_count": null,
      "metadata": {
        "collapsed": false
      },
      "outputs": [],
      "source": [
        "import pygraphviz as pgv\n\nfrom neurobooth_terra import Table\nimport psycopg2\n\n#### Initialize connection to database\nconnect_str = (\"dbname='neurobooth' user='neuroboother' host='localhost' \"\n               \"password='neuroboothrocks'\")\n\nconn = psycopg2.connect(connect_str)\n\ndef query(cmd):\n    cursor = conn.cursor()\n    cursor.execute(cmd)\n    conn.commit()\n\n    data = cursor.fetchall()\n    cursor.close()\n    return data\n\n#### Some useful postgres commands\nfk_cmd_base = \"\"\"\n    SELECT\n        tc.table_name, \n        kcu.column_name,\n        ccu.table_name AS foreign_table_name,\n        ccu.column_name AS foreign_column_name \n\n    FROM\n        information_schema.table_constraints AS tc \n        JOIN information_schema.key_column_usage AS kcu\n          ON tc.constraint_name = kcu.constraint_name\n          AND tc.table_schema = kcu.table_schema\n        JOIN information_schema.constraint_column_usage AS ccu\n          ON ccu.constraint_name = tc.constraint_name\n          AND ccu.table_schema = tc.table_schema\n    \"\"\"\n\nquery_tables_cmd = \"\"\"\nSELECT *\nFROM pg_catalog.pg_tables\nWHERE schemaname != 'pg_catalog' AND \n    schemaname != 'information_schema';\n\"\"\"\n\ntables = query(query_tables_cmd)\ntable_ids = [table[1] for table in tables]\n\n#### Create graph\n\nA = pgv.AGraph(directed=True, repulsiveforce=10.0,\n               overlap=False, splines='curved')\n\n# Add nodes\nfor table_id in table_ids:\n    table = Table(table_id, conn)\n\n    rows = []\n    rows.append(f'<th><td bgcolor=\"lightsalmon\"><b>{table_id}</b></td></th>')\n    for column_name in table.column_names:\n        rows.append(f''\n        '<tr>'\n            f'<td port=\"{column_name}\">{column_name}</td>'\n        '</tr>')\n    label = \"<<table border='0' cellborder='1' cellspacing='0' cellpadding='4'>\"\n    label += '\\n'.join(rows)\n    label += \"</table>>\"\n    A.add_node(table_id, shape='plaintext', label=label)\n\n# Add edges\nfor table_id in table_ids:\n    foreign_key_cmd = fk_cmd_base + (\"WHERE tc.constraint_type = 'FOREIGN KEY'\"\n                                    f\" AND tc.table_name='{table_id}';\")\n\n    fkeys = query(foreign_key_cmd)\n    if len(fkeys) > 0:\n        for fkey in fkeys:\n            fkey_table_id = fkey[2]\n            A.add_edge(table_id, fkey_table_id, headport=fkey[1], tailport=fkey[1],\n                       arrowtype='normal')\n\nprint(A.string())  # print to screen\nA.layout(prog='fdp')  # layout with default (neato)\nA.draw(\"er_diagram.pdf\")  # draw png"
      ]
    }
  ],
  "metadata": {
    "kernelspec": {
      "display_name": "Python 3",
      "language": "python",
      "name": "python3"
    },
    "language_info": {
      "codemirror_mode": {
        "name": "ipython",
        "version": 3
      },
      "file_extension": ".py",
      "mimetype": "text/x-python",
      "name": "python",
      "nbconvert_exporter": "python",
      "pygments_lexer": "ipython3",
      "version": "3.8.10"
    }
  },
  "nbformat": 4,
  "nbformat_minor": 0
}