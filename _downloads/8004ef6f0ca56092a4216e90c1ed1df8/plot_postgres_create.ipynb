{
  "cells": [
    {
      "cell_type": "code",
      "execution_count": null,
      "metadata": {
        "collapsed": false
      },
      "outputs": [],
      "source": [
        "%matplotlib inline"
      ]
    },
    {
      "cell_type": "markdown",
      "metadata": {},
      "source": [
        "\n# Export from dbdesigner\n\nThis example demonstrates how to create postgres table with neurobooth-terra.\n"
      ]
    },
    {
      "cell_type": "code",
      "execution_count": null,
      "metadata": {
        "collapsed": false
      },
      "outputs": [],
      "source": [
        "from neurobooth_terra.create_psql import drop_table\nimport psycopg2\nfrom neurobooth_terra import execute, drop_table\n\n# drop all tables"
      ]
    },
    {
      "cell_type": "markdown",
      "metadata": {},
      "source": [
        "First, we will create a connection using ``psycopg2``.\n\n"
      ]
    },
    {
      "cell_type": "code",
      "execution_count": null,
      "metadata": {
        "collapsed": false
      },
      "outputs": [],
      "source": [
        "connect_str = (\"dbname='neurobooth' user='neuroboother' host='localhost' \"\n               \"password='neuroboothrocks'\")\n\nconn = psycopg2.connect(connect_str)\n\nfor table_id in ['consent', 'study', 'register', 'contact', 'clinical',\n                 'subject', 'demograph', 'human_obs_log', 'observer',\n                 'tech_obs_data', 'tech_obs_log', 'stimulus', 'sensor',\n                 'instruction', 'human_obs_data', 'device', 'collection',\n                 'sensor_file_log']:\n    drop_table(table_id, conn)"
      ]
    },
    {
      "cell_type": "markdown",
      "metadata": {},
      "source": [
        "Then comes our sql command to create the SQL tables. This comes from\ndbdesigner.\n6/7/2021, 17:02:05\n\n"
      ]
    },
    {
      "cell_type": "code",
      "execution_count": null,
      "metadata": {
        "collapsed": false
      },
      "outputs": [],
      "source": [
        "create_cmd = \"\"\"\nCREATE TABLE \"consent\" (\n    \"subject_id\" VARCHAR(255) NOT NULL,\n    \"study_id\" VARCHAR(255) NOT NULL,\n    \"staff_id\" VARCHAR(255) NOT NULL,\n    \"application_id\" VARCHAR(255) NOT NULL,\n    \"site_date\" VARCHAR(255) NOT NULL,\n    CONSTRAINT \"consent_pk\" PRIMARY KEY (\"subject_id\",\"study_id\")\n) WITH (\n  OIDS=FALSE\n);\n\n\n\nCREATE TABLE \"study\" (\n    \"study_id\" VARCHAR(255) NOT NULL,\n    \"IRB_protocol_number\" integer NOT NULL,\n    \"study_title\" VARCHAR(255) NOT NULL,\n    \"protocol_version_array\" integer NOT NULL,\n    \"protocol_date_array\" DATE NOT NULL,\n    \"consent_version_array\" VARCHAR(255) NOT NULL,\n    \"consent_date_array\" DATE NOT NULL,\n    CONSTRAINT \"study_pk\" PRIMARY KEY (\"study_id\")\n) WITH (\n  OIDS=FALSE\n);\n\n\n\nCREATE TABLE \"register\" (\n    \"subject_id\" VARCHAR(255) NOT NULL,\n    \"study_id\" VARCHAR(255) NOT NULL,\n    \"application_id\" VARCHAR(255) NOT NULL,\n    \"site_date\" VARCHAR(255) NOT NULL,\n    CONSTRAINT \"register_pk\" PRIMARY KEY (\"subject_id\",\"study_id\")\n) WITH (\n  OIDS=FALSE\n);\n\n\n\nCREATE TABLE \"contact\" (\n    \"subject_id\" VARCHAR(255) NOT NULL,\n    \"study_id\" VARCHAR(255) NOT NULL,\n    \"application_id\" VARCHAR(255) NOT NULL,\n    \"site_date\" VARCHAR(255) NOT NULL,\n    \"email\" VARCHAR(255) NOT NULL,\n    \"phone\" VARCHAR(255) NOT NULL,\n    CONSTRAINT \"contact_pk\" PRIMARY KEY (\"subject_id\",\"study_id\")\n) WITH (\n  OIDS=FALSE\n);\n\n\n\nCREATE TABLE \"clinical\" (\n    \"subject_id\" VARCHAR(255) NOT NULL,\n    \"study_id\" VARCHAR(255) NOT NULL,\n    \"application_id\" VARCHAR(255) NOT NULL,\n    \"site_date\" VARCHAR(255) NOT NULL,\n    \"diagnosis\" VARCHAR(255) NOT NULL,\n    \"relevant_diagnosis\" VARCHAR(255) NOT NULL,\n    \"symptom_age_onset\" integer NOT NULL,\n    \"handedness\" VARCHAR(255) NOT NULL,\n    \"height\" FLOAT NOT NULL,\n    \"weight\" FLOAT NOT NULL,\n    \"medications\" TEXT NOT NULL,\n    \"MRN\" integer NOT NULL,\n    CONSTRAINT \"clinical_pk\" PRIMARY KEY (\"subject_id\",\"study_id\")\n) WITH (\n  OIDS=FALSE\n);\n\n\n\nCREATE TABLE \"subject\" (\n    \"subject_id\" VARCHAR(255) NOT NULL,\n    \"first_name_birth\" VARCHAR(255) NOT NULL,\n    \"middle_name_birth\" VARCHAR(255) NOT NULL,\n    \"last_name_birth\" VARCHAR(255) NOT NULL,\n    \"date of birth\" DATE NOT NULL,\n    \"country of birth\" VARCHAR(255) NOT NULL,\n    \"gender at birth\" VARCHAR(255) NOT NULL,\n    CONSTRAINT \"subject_pk\" PRIMARY KEY (\"subject_id\")\n) WITH (\n  OIDS=FALSE\n);\n\n\n\nCREATE TABLE \"demograph\" (\n    \"subject_id\" VARCHAR(255) NOT NULL,\n    \"study_id\" VARCHAR(255) NOT NULL,\n    \"application_id\" VARCHAR(255) NOT NULL,\n    \"site_date\" VARCHAR(255) NOT NULL,\n    \"date_of_birth\" DATE NOT NULL,\n    \"age_study_start\" integer NOT NULL,\n    \"symptom_age_onset\" integer NOT NULL,\n    \"sex\" VARCHAR(255) NOT NULL,\n    \"race\" VARCHAR(255) NOT NULL,\n    \"ethnicity\" VARCHAR(255) NOT NULL,\n    \"recruit_mechanism\" VARCHAR(255) NOT NULL,\n    CONSTRAINT \"demograph_pk\" PRIMARY KEY (\"subject_id\",\"study_id\")\n) WITH (\n  OIDS=FALSE\n);\n\n\n\nCREATE TABLE \"human_obs_log\" (\n    \"subject_id\" VARCHAR(255) NOT NULL,\n    \"study_id\" VARCHAR(255) NOT NULL,\n    \"observer_id\" VARCHAR(255) NOT NULL,\n    \"human_obs_id\" VARCHAR(255) NOT NULL,\n    \"application_id\" VARCHAR(255) NOT NULL,\n    \"site_date\" DATE NOT NULL,\n    \"response_array\" VARCHAR(255) NOT NULL,\n    CONSTRAINT \"human_obs_log_pk\" PRIMARY KEY (\"subject_id\",\"study_id\")\n) WITH (\n  OIDS=FALSE\n);\n\n\n\nCREATE TABLE \"observer\" (\n    \"observer_id\" VARCHAR(255) NOT NULL,\n    \"subject_id\" VARCHAR(255) NOT NULL,\n    \"first_name\" VARCHAR(255) NOT NULL,\n    \"last_name\" VARCHAR(255) NOT NULL,\n    \"age\" integer NOT NULL,\n    \"sex\" VARCHAR(255) NOT NULL,\n    \"race\" VARCHAR(255) NOT NULL,\n    \"ethnicity\" VARCHAR(255) NOT NULL,\n    \"relationship\" VARCHAR(255) NOT NULL,\n    CONSTRAINT \"observer_pk\" PRIMARY KEY (\"observer_id\")\n) WITH (\n  OIDS=FALSE\n);\n\n\n\nCREATE TABLE \"tech_obs_data\" (\n    \"tech_obs_id\" VARCHAR(255) NOT NULL,\n    \"obs_name\" VARCHAR(255) NOT NULL,\n    \"feature_of_interest\" VARCHAR(255) NOT NULL,\n    \"measurement_type\" VARCHAR(255) NOT NULL,\n    \"instruction_id\" VARCHAR(255) NOT NULL,\n    \"demo_id\" VARCHAR(255) NOT NULL,\n    \"stimulus_id\" VARCHAR(255) NOT NULL,\n    \"device_id_array\" VARCHAR(255) NOT NULL,\n    \"question_array\" VARCHAR(255) NOT NULL,\n    \"response_array\" VARCHAR(255) NOT NULL,\n    \"obs_property_array\" VARCHAR(255) NOT NULL,\n    \"obs_time_period_array\" VARCHAR(255) NOT NULL,\n    \"units_array\" VARCHAR(255) NOT NULL,\n    \"sensor_id_array\" VARCHAR(255) NOT NULL,\n    \"file_id_array\" VARCHAR(255) NOT NULL,\n    \"sensor_param_array\" VARCHAR(255) NOT NULL,\n    \"device-stim_sync_array\" VARCHAR(255) NOT NULL,\n    \"interdevice_sync-matrix\" VARCHAR(255) NOT NULL,\n    CONSTRAINT \"tech_obs_data_pk\" PRIMARY KEY (\"tech_obs_id\")\n) WITH (\n  OIDS=FALSE\n);\n\n\n\nCREATE TABLE \"tech_obs_log\" (\n    \"tech_obs_log_id\" VARCHAR(255) NOT NULL,\n    \"subject_id\" VARCHAR(255) NOT NULL,\n    \"study_id\" VARCHAR(255) NOT NULL,\n    \"tech_obs_id\" VARCHAR(255) NOT NULL,\n    \"staff_id\" VARCHAR(255) NOT NULL,\n    \"application_id\" VARCHAR(255) NOT NULL,\n    \"site_date\" DATE NOT NULL,\n    \"event_array\" VARCHAR(255) NOT NULL,\n    \"date_time_array\" VARCHAR(255) NOT NULL,\n    \"sensor_file_id_array\" VARCHAR(255) NOT NULL,\n    \"collection_id\" VARCHAR(255) NOT NULL,\n    CONSTRAINT \"tech_obs_log_pk\" PRIMARY KEY (\"tech_obs_log_id\")\n) WITH (\n  OIDS=FALSE\n);\n\n\n\nCREATE TABLE \"stimulus\" (\n    \"stimulus_id\" VARCHAR(255) NOT NULL,\n    \"stimulus_description\" VARCHAR(255) NOT NULL,\n    \"num_iterations\" VARCHAR(255) NOT NULL,\n    \"duration\" FLOAT NOT NULL,\n    \"stimulus_filetype\" VARCHAR(255) NOT NULL,\n    \"stimulus_file\" VARCHAR(255) NOT NULL,\n    CONSTRAINT \"stimulus_pk\" PRIMARY KEY (\"stimulus_id\")\n) WITH (\n  OIDS=FALSE\n);\n\n\n\nCREATE TABLE \"sensor\" (\n    \"sensor_id\" VARCHAR(255) NOT NULL,\n    \"temporal_res\" FLOAT NOT NULL,\n    \"spatial_res_x\" FLOAT NOT NULL,\n    \"spatial_res_y\" FLOAT NOT NULL,\n    \"file_type\" VARCHAR(255) NOT NULL,\n    CONSTRAINT \"sensor_pk\" PRIMARY KEY (\"sensor_id\")\n) WITH (\n  OIDS=FALSE\n);\n\n\n\nCREATE TABLE \"instruction\" (\n    \"instruction_id\" VARCHAR(255) NOT NULL,\n    \"instruction_text\" TEXT NOT NULL,\n    \"instruction_filetype\" VARCHAR(255) NOT NULL,\n    \"instruction_file\" VARCHAR(255) NOT NULL,\n    CONSTRAINT \"instruction_pk\" PRIMARY KEY (\"instruction_id\")\n) WITH (\n  OIDS=FALSE\n);\n\n\n\nCREATE TABLE \"human_obs_data\" (\n    \"human_obs_id\" VARCHAR(255) NOT NULL,\n    \"obs_name\" VARCHAR(255) NOT NULL,\n    \"feature_of_interest\" VARCHAR(255) NOT NULL,\n    \"measurement_type\" VARCHAR(255) NOT NULL,\n    \"question_array\" VARCHAR(255) NOT NULL,\n    \"response_array\" VARCHAR(255) NOT NULL,\n    \"obs_property_array\" VARCHAR(255) NOT NULL,\n    \"obs_time_period_array\" VARCHAR(255) NOT NULL,\n    \"units_array\" VARCHAR(255) NOT NULL,\n    CONSTRAINT \"human_obs_data_pk\" PRIMARY KEY (\"human_obs_id\")\n) WITH (\n  OIDS=FALSE\n);\n\n\n\nCREATE TABLE \"device\" (\n    \"device_id\" VARCHAR(255) NOT NULL,\n    \"device_sn\" VARCHAR(255) NOT NULL,\n    \"wearable_bool\" BOOLEAN NOT NULL,\n    \"device_location\" VARCHAR(255) NOT NULL,\n    \"device_name\" VARCHAR(255) NOT NULL,\n    \"device_make\" VARCHAR(255) NOT NULL,\n    \"device_model\" VARCHAR(255) NOT NULL,\n    \"device_firmware\" VARCHAR(255) NOT NULL,\n    \"sensor_id_array\" BOOLEAN NOT NULL,\n    CONSTRAINT \"device_pk\" PRIMARY KEY (\"device_id\")\n) WITH (\n  OIDS=FALSE\n);\n\n\n\nCREATE TABLE \"collection\" (\n    \"collection_name\" VARCHAR(255) NOT NULL,\n    \"tech_obs_array\" VARCHAR(255),\n    \"human_obs_array\" VARCHAR(255),\n    \"collection_id\" VARCHAR(255) NOT NULL,\n    \"active\" BOOLEAN NOT NULL,\n    CONSTRAINT \"collection_pk\" PRIMARY KEY (\"collection_id\")\n) WITH (\n  OIDS=FALSE\n);\n\n\n\nCREATE TABLE \"sensor_file_log\" (\n    \"sensor_file_id\" VARCHAR(255) NOT NULL,\n    \"subject_id\" VARCHAR(255) NOT NULL,\n    \"study_id\" VARCHAR(255) NOT NULL,\n    \"tech_obs_log_id\" VARCHAR(255) NOT NULL,\n    \"tech_obs_id\" VARCHAR(255) NOT NULL,\n    \"collection_id\" VARCHAR(255) NOT NULL,\n    \"true_temporal_resolution\" FLOAT,\n    \"true_spatial_resolution\" FLOAT,\n    \"file_start_time\" TIMESTAMP NOT NULL,\n    \"file_end_time\" TIMESTAMP NOT NULL,\n    \"device_id\" VARCHAR(255) NOT NULL,\n    \"sensor_id\" VARCHAR(255) NOT NULL,\n    CONSTRAINT \"sensor_file_log_pk\" PRIMARY KEY (\"sensor_file_id\")\n) WITH (\n  OIDS=FALSE\n);\n\n\n\nALTER TABLE \"consent\" ADD CONSTRAINT \"consent_fk0\" FOREIGN KEY (\"subject_id\") REFERENCES \"subject\"(\"subject_id\");\nALTER TABLE \"consent\" ADD CONSTRAINT \"consent_fk1\" FOREIGN KEY (\"study_id\") REFERENCES \"study\"(\"study_id\");\n\n\nALTER TABLE \"register\" ADD CONSTRAINT \"register_fk0\" FOREIGN KEY (\"subject_id\") REFERENCES \"subject\"(\"subject_id\");\nALTER TABLE \"register\" ADD CONSTRAINT \"register_fk1\" FOREIGN KEY (\"study_id\") REFERENCES \"subject\"(\"subject_id\");\n\nALTER TABLE \"contact\" ADD CONSTRAINT \"contact_fk0\" FOREIGN KEY (\"subject_id\") REFERENCES \"subject\"(\"subject_id\");\nALTER TABLE \"contact\" ADD CONSTRAINT \"contact_fk1\" FOREIGN KEY (\"study_id\") REFERENCES \"study\"(\"study_id\");\n\nALTER TABLE \"clinical\" ADD CONSTRAINT \"clinical_fk0\" FOREIGN KEY (\"subject_id\") REFERENCES \"subject\"(\"subject_id\");\nALTER TABLE \"clinical\" ADD CONSTRAINT \"clinical_fk1\" FOREIGN KEY (\"study_id\") REFERENCES \"study\"(\"study_id\");\n\n\nALTER TABLE \"demograph\" ADD CONSTRAINT \"demograph_fk0\" FOREIGN KEY (\"subject_id\") REFERENCES \"subject\"(\"subject_id\");\nALTER TABLE \"demograph\" ADD CONSTRAINT \"demograph_fk1\" FOREIGN KEY (\"study_id\") REFERENCES \"study\"(\"study_id\");\n\nALTER TABLE \"human_obs_log\" ADD CONSTRAINT \"human_obs_log_fk0\" FOREIGN KEY (\"subject_id\") REFERENCES \"subject\"(\"subject_id\");\nALTER TABLE \"human_obs_log\" ADD CONSTRAINT \"human_obs_log_fk1\" FOREIGN KEY (\"study_id\") REFERENCES \"study\"(\"study_id\");\nALTER TABLE \"human_obs_log\" ADD CONSTRAINT \"human_obs_log_fk2\" FOREIGN KEY (\"observer_id\") REFERENCES \"observer\"(\"observer_id\");\nALTER TABLE \"human_obs_log\" ADD CONSTRAINT \"human_obs_log_fk3\" FOREIGN KEY (\"human_obs_id\") REFERENCES \"human_obs_data\"(\"human_obs_id\");\n\n\nALTER TABLE \"tech_obs_data\" ADD CONSTRAINT \"tech_obs_data_fk0\" FOREIGN KEY (\"instruction_id\") REFERENCES \"instruction\"(\"instruction_id\");\nALTER TABLE \"tech_obs_data\" ADD CONSTRAINT \"tech_obs_data_fk1\" FOREIGN KEY (\"stimulus_id\") REFERENCES \"stimulus\"(\"stimulus_id\");\n\nALTER TABLE \"tech_obs_log\" ADD CONSTRAINT \"tech_obs_log_fk0\" FOREIGN KEY (\"subject_id\") REFERENCES \"subject\"(\"subject_id\");\nALTER TABLE \"tech_obs_log\" ADD CONSTRAINT \"tech_obs_log_fk1\" FOREIGN KEY (\"study_id\") REFERENCES \"study\"(\"study_id\");\nALTER TABLE \"tech_obs_log\" ADD CONSTRAINT \"tech_obs_log_fk2\" FOREIGN KEY (\"tech_obs_id\") REFERENCES \"tech_obs_data\"(\"tech_obs_id\");\nALTER TABLE \"tech_obs_log\" ADD CONSTRAINT \"tech_obs_log_fk3\" FOREIGN KEY (\"sensor_file_id_array\") REFERENCES \"sensor_file_log\"(\"sensor_file_id\");\nALTER TABLE \"tech_obs_log\" ADD CONSTRAINT \"tech_obs_log_fk4\" FOREIGN KEY (\"collection_id\") REFERENCES \"collection\"(\"collection_id\");\n\n\n\n\n\n\nALTER TABLE \"collection\" ADD CONSTRAINT \"collection_fk0\" FOREIGN KEY (\"tech_obs_array\") REFERENCES \"tech_obs_data\"(\"tech_obs_id\");\nALTER TABLE \"collection\" ADD CONSTRAINT \"collection_fk1\" FOREIGN KEY (\"human_obs_array\") REFERENCES \"human_obs_data\"(\"human_obs_id\");\n\nALTER TABLE \"sensor_file_log\" ADD CONSTRAINT \"sensor_file_log_fk0\" FOREIGN KEY (\"subject_id\") REFERENCES \"subject\"(\"subject_id\");\nALTER TABLE \"sensor_file_log\" ADD CONSTRAINT \"sensor_file_log_fk1\" FOREIGN KEY (\"study_id\") REFERENCES \"study\"(\"study_id\");\nALTER TABLE \"sensor_file_log\" ADD CONSTRAINT \"sensor_file_log_fk2\" FOREIGN KEY (\"tech_obs_log_id\") REFERENCES \"tech_obs_log\"(\"tech_obs_log_id\");\nALTER TABLE \"sensor_file_log\" ADD CONSTRAINT \"sensor_file_log_fk3\" FOREIGN KEY (\"tech_obs_id\") REFERENCES \"tech_obs_data\"(\"tech_obs_id\");\nALTER TABLE \"sensor_file_log\" ADD CONSTRAINT \"sensor_file_log_fk4\" FOREIGN KEY (\"collection_id\") REFERENCES \"collection\"(\"collection_id\");\nALTER TABLE \"sensor_file_log\" ADD CONSTRAINT \"sensor_file_log_fk5\" FOREIGN KEY (\"device_id\") REFERENCES \"device\"(\"device_id\");\nALTER TABLE \"sensor_file_log\" ADD CONSTRAINT \"sensor_file_log_fk6\" FOREIGN KEY (\"sensor_id\") REFERENCES \"sensor\"(\"sensor_id\");\n\n\"\"\""
      ]
    },
    {
      "cell_type": "markdown",
      "metadata": {},
      "source": [
        "Now we create the tables.\n\n"
      ]
    },
    {
      "cell_type": "code",
      "execution_count": null,
      "metadata": {
        "collapsed": false
      },
      "outputs": [],
      "source": [
        "cursor = conn.cursor()\nexecute(conn, cursor, create_cmd)"
      ]
    },
    {
      "cell_type": "markdown",
      "metadata": {},
      "source": [
        "Don't forget to close the connection once done!\n\n"
      ]
    },
    {
      "cell_type": "code",
      "execution_count": null,
      "metadata": {
        "collapsed": false
      },
      "outputs": [],
      "source": [
        "cursor.close()\nconn.close()"
      ]
    }
  ],
  "metadata": {
    "kernelspec": {
      "display_name": "Python 3",
      "language": "python",
      "name": "python3"
    },
    "language_info": {
      "codemirror_mode": {
        "name": "ipython",
        "version": 3
      },
      "file_extension": ".py",
      "mimetype": "text/x-python",
      "name": "python",
      "nbconvert_exporter": "python",
      "pygments_lexer": "ipython3",
      "version": "3.8.10"
    }
  },
  "nbformat": 4,
  "nbformat_minor": 0
}