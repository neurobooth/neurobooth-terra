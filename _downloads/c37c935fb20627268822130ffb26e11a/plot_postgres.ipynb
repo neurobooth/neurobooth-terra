{
  "cells": [
    {
      "cell_type": "code",
      "execution_count": null,
      "metadata": {
        "collapsed": false
      },
      "outputs": [],
      "source": [
        "%matplotlib inline"
      ]
    },
    {
      "cell_type": "markdown",
      "metadata": {},
      "source": [
        "\n# CRUD operations on Postgres tables using Neurobooth-terra\n\nThis example demonstrates how to perform `CRUD`_ operations\non postgres tables with neurobooth-terra.\n"
      ]
    },
    {
      "cell_type": "code",
      "execution_count": null,
      "metadata": {
        "collapsed": false
      },
      "outputs": [],
      "source": [
        "# Authors: Mainak Jas <mjas@harvard.mgh.edu>"
      ]
    },
    {
      "cell_type": "markdown",
      "metadata": {},
      "source": [
        "\n\n"
      ]
    },
    {
      "cell_type": "markdown",
      "metadata": {},
      "source": [
        "Let us first import the necessary functions.\n\n"
      ]
    },
    {
      "cell_type": "code",
      "execution_count": null,
      "metadata": {
        "collapsed": false
      },
      "outputs": [],
      "source": [
        "from neurobooth_terra import list_tables, create_table, drop_table, Table\n\nimport psycopg2\nimport pandas as pd"
      ]
    },
    {
      "cell_type": "markdown",
      "metadata": {},
      "source": [
        "Then, we will create a connection using ``psycopg2``.\n\n"
      ]
    },
    {
      "cell_type": "code",
      "execution_count": null,
      "metadata": {
        "collapsed": false
      },
      "outputs": [],
      "source": [
        "connect_str = (\"dbname='neurobooth' user='neuroboother' host='localhost' \"\n               \"password='neuroboothrocks'\")\n\nconn = psycopg2.connect(connect_str)"
      ]
    },
    {
      "cell_type": "markdown",
      "metadata": {},
      "source": [
        "We will drop tables if they already exist\nthis is just for convenience so we can re-run this script\neven when changing some columns\n\n"
      ]
    },
    {
      "cell_type": "code",
      "execution_count": null,
      "metadata": {
        "collapsed": false
      },
      "outputs": [],
      "source": [
        "drop_table('subject', conn)\ndrop_table('contact', conn)\ndrop_table('consent', conn)"
      ]
    },
    {
      "cell_type": "markdown",
      "metadata": {},
      "source": [
        "## Create\nNow we define the Table\n\n"
      ]
    },
    {
      "cell_type": "code",
      "execution_count": null,
      "metadata": {
        "collapsed": false
      },
      "outputs": [],
      "source": [
        "table_id = 'subject'\ncolumn_names = ['subject_id', 'first_name_birth', 'last_name_birth']\ndtypes = ['VARCHAR (255)', 'VARCHAR (255)', 'VARCHAR (255)']\ntable_subject = create_table(table_id, conn,\n                             column_names=column_names,\n                             dtypes=dtypes)"
      ]
    },
    {
      "cell_type": "markdown",
      "metadata": {},
      "source": [
        "and insert some data and retrieve the table as a dataframe\n\n"
      ]
    },
    {
      "cell_type": "code",
      "execution_count": null,
      "metadata": {
        "collapsed": false
      },
      "outputs": [],
      "source": [
        "table_subject.insert_rows([('x5dc', 'mainak', 'jas'),\n                           ('y5d3', 'anoopum', 'gupta')],\n                           cols=column_names)"
      ]
    },
    {
      "cell_type": "markdown",
      "metadata": {},
      "source": [
        "We can create another table and relate it to the other table using\na foreign key\n\n"
      ]
    },
    {
      "cell_type": "code",
      "execution_count": null,
      "metadata": {
        "collapsed": false
      },
      "outputs": [],
      "source": [
        "table_id = 'contact'\ncolumn_names = ['subject_id', 'email']\ndtypes = ['VARCHAR (255)', 'VARCHAR (255)']\ntable_contact = create_table(table_id, conn,\n                             column_names=column_names,\n                             dtypes=dtypes,\n                             foreign_key=dict(subject_id='subject'))\ntable_contact.insert_rows([('x5dc',), ('y5d3',)], cols=['subject_id'])"
      ]
    },
    {
      "cell_type": "markdown",
      "metadata": {},
      "source": [
        "## Read\nWe can get a list of tables in the database by doing\n\n"
      ]
    },
    {
      "cell_type": "code",
      "execution_count": null,
      "metadata": {
        "collapsed": false
      },
      "outputs": [],
      "source": [
        "list_tables(conn)"
      ]
    },
    {
      "cell_type": "markdown",
      "metadata": {},
      "source": [
        "From the list of these table, we can select one to inspect by\ncreating a :class:`~neurobooth_terra.Table` object.\n\n"
      ]
    },
    {
      "cell_type": "code",
      "execution_count": null,
      "metadata": {
        "collapsed": false
      },
      "outputs": [],
      "source": [
        "table_id = 'subject'\ntable_subject = Table(table_id, conn)\nprint(table_subject)"
      ]
    },
    {
      "cell_type": "markdown",
      "metadata": {},
      "source": [
        "With this Table object, we can create a query that\nreturns a dataframe\n\n"
      ]
    },
    {
      "cell_type": "code",
      "execution_count": null,
      "metadata": {
        "collapsed": false
      },
      "outputs": [],
      "source": [
        "df_subject = table_subject.query()\nprint(df_subject)"
      ]
    },
    {
      "cell_type": "markdown",
      "metadata": {},
      "source": [
        "## Update\nWe can make changes such as adding a new column\n\n"
      ]
    },
    {
      "cell_type": "code",
      "execution_count": null,
      "metadata": {
        "collapsed": false
      },
      "outputs": [],
      "source": [
        "table_subject.add_column('dob', 'VARCHAR (255)')\nprint(table_subject.query())"
      ]
    },
    {
      "cell_type": "markdown",
      "metadata": {},
      "source": [
        "To update a row in the table we can do\n\n"
      ]
    },
    {
      "cell_type": "code",
      "execution_count": null,
      "metadata": {
        "collapsed": false
      },
      "outputs": [],
      "source": [
        "table_subject.update_row('y5d3',\n                         cols=['first_name_birth', 'last_name_birth'],\n                         vals=('anupum', 'gupta'))\nprint(table_subject.query())"
      ]
    },
    {
      "cell_type": "markdown",
      "metadata": {},
      "source": [
        "## Delete\nWe can also delete rows in our table\n\n"
      ]
    },
    {
      "cell_type": "code",
      "execution_count": null,
      "metadata": {
        "collapsed": false
      },
      "outputs": [],
      "source": [
        "table_subject.delete_row(condition=\"subject_id = 'yd53'\")\nprint(table_subject.query())"
      ]
    },
    {
      "cell_type": "markdown",
      "metadata": {},
      "source": [
        "Or drop columns\n\n"
      ]
    },
    {
      "cell_type": "code",
      "execution_count": null,
      "metadata": {
        "collapsed": false
      },
      "outputs": [],
      "source": [
        "table_contact.drop_column('subject_id')\nprint(table_subject.query())"
      ]
    },
    {
      "cell_type": "markdown",
      "metadata": {},
      "source": [
        "To delete an entire table, we can do\n\n"
      ]
    },
    {
      "cell_type": "code",
      "execution_count": null,
      "metadata": {
        "collapsed": false
      },
      "outputs": [],
      "source": [
        "drop_table('subject', conn)\nlist_tables(conn)"
      ]
    },
    {
      "cell_type": "markdown",
      "metadata": {},
      "source": [
        "Don't forget to close the connection once done!\n\n"
      ]
    },
    {
      "cell_type": "code",
      "execution_count": null,
      "metadata": {
        "collapsed": false
      },
      "outputs": [],
      "source": [
        "table_subject.close()\ntable_contact.close()\nconn.close()"
      ]
    },
    {
      "cell_type": "markdown",
      "metadata": {},
      "source": [
        "\n"
      ]
    }
  ],
  "metadata": {
    "kernelspec": {
      "display_name": "Python 3",
      "language": "python",
      "name": "python3"
    },
    "language_info": {
      "codemirror_mode": {
        "name": "ipython",
        "version": 3
      },
      "file_extension": ".py",
      "mimetype": "text/x-python",
      "name": "python",
      "nbconvert_exporter": "python",
      "pygments_lexer": "ipython3",
      "version": "3.8.10"
    }
  },
  "nbformat": 4,
  "nbformat_minor": 0
}